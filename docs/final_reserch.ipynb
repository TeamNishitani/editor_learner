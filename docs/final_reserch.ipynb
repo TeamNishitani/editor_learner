{
 "cells": [
  {
   "cell_type": "markdown",
   "metadata": {
    "toc": true
   },
   "source": [
    "<h1>Table of Contents<span class=\"tocSkip\"></span></h1>\n",
    "<div class=\"toc\"><ul class=\"toc-item\"><li><span><a href=\"#はじめに\" data-toc-modified-id=\"はじめに-1\"><span class=\"toc-item-num\">1&nbsp;&nbsp;</span>はじめに</a></span><ul class=\"toc-item\"><li><span><a href=\"#研究の目的\" data-toc-modified-id=\"研究の目的-1.1\"><span class=\"toc-item-num\">1.1&nbsp;&nbsp;</span>研究の目的</a></span></li><li><span><a href=\"#研究の動機\" data-toc-modified-id=\"研究の動機-1.2\"><span class=\"toc-item-num\">1.2&nbsp;&nbsp;</span>研究の動機</a></span></li></ul></li><li><span><a href=\"#基本的事項\" data-toc-modified-id=\"基本的事項-2\"><span class=\"toc-item-num\">2&nbsp;&nbsp;</span>基本的事項</a></span><ul class=\"toc-item\"><li><span><a href=\"#Emacs\" data-toc-modified-id=\"Emacs-2.1\"><span class=\"toc-item-num\">2.1&nbsp;&nbsp;</span>Emacs</a></span></li><li><span><a href=\"#Ruby\" data-toc-modified-id=\"Ruby-2.2\"><span class=\"toc-item-num\">2.2&nbsp;&nbsp;</span>Ruby</a></span></li><li><span><a href=\"#RubyGems\" data-toc-modified-id=\"RubyGems-2.3\"><span class=\"toc-item-num\">2.3&nbsp;&nbsp;</span>RubyGems</a></span></li><li><span><a href=\"#Keybind\" data-toc-modified-id=\"Keybind-2.4\"><span class=\"toc-item-num\">2.4&nbsp;&nbsp;</span>Keybind</a></span></li><li><span><a href=\"#CUI(Character-User-Interface)\" data-toc-modified-id=\"CUI(Character-User-Interface)-2.5\"><span class=\"toc-item-num\">2.5&nbsp;&nbsp;</span>CUI(Character User Interface)</a></span></li><li><span><a href=\"#使用したgemファイル\" data-toc-modified-id=\"使用したgemファイル-2.6\"><span class=\"toc-item-num\">2.6&nbsp;&nbsp;</span>使用したgemファイル</a></span><ul class=\"toc-item\"><li><span><a href=\"#diff-lcs\" data-toc-modified-id=\"diff-lcs-2.6.1\"><span class=\"toc-item-num\">2.6.1&nbsp;&nbsp;</span>diff-lcs</a></span></li><li><span><a href=\"#Thor\" data-toc-modified-id=\"Thor-2.6.2\"><span class=\"toc-item-num\">2.6.2&nbsp;&nbsp;</span>Thor</a></span></li><li><span><a href=\"#Minitest\" data-toc-modified-id=\"Minitest-2.6.3\"><span class=\"toc-item-num\">2.6.3&nbsp;&nbsp;</span>Minitest</a></span></li><li><span><a href=\"#FileUtils\" data-toc-modified-id=\"FileUtils-2.6.4\"><span class=\"toc-item-num\">2.6.4&nbsp;&nbsp;</span>FileUtils</a></span></li><li><span><a href=\"#open3\" data-toc-modified-id=\"open3-2.6.5\"><span class=\"toc-item-num\">2.6.5&nbsp;&nbsp;</span>open3</a></span></li><li><span><a href=\"#Bundler\" data-toc-modified-id=\"Bundler-2.6.6\"><span class=\"toc-item-num\">2.6.6&nbsp;&nbsp;</span>Bundler</a></span></li><li><span><a href=\"#Rubocop\" data-toc-modified-id=\"Rubocop-2.6.7\"><span class=\"toc-item-num\">2.6.7&nbsp;&nbsp;</span>Rubocop</a></span></li></ul></li></ul></li><li><span><a href=\"#editor_learnerの概要\" data-toc-modified-id=\"editor_learnerの概要-3\"><span class=\"toc-item-num\">3&nbsp;&nbsp;</span>editor_learnerの概要</a></span><ul class=\"toc-item\"><li><span><a href=\"#Installation\" data-toc-modified-id=\"Installation-3.1\"><span class=\"toc-item-num\">3.1&nbsp;&nbsp;</span>Installation</a></span><ul class=\"toc-item\"><li><span><a href=\"#githubによるinstall\" data-toc-modified-id=\"githubによるinstall-3.1.1\"><span class=\"toc-item-num\">3.1.1&nbsp;&nbsp;</span>githubによるinstall</a></span></li><li><span><a href=\"#gemによるinstall\" data-toc-modified-id=\"gemによるinstall-3.1.2\"><span class=\"toc-item-num\">3.1.2&nbsp;&nbsp;</span>gemによるinstall</a></span></li></ul></li><li><span><a href=\"#uninstall\" data-toc-modified-id=\"uninstall-3.2\"><span class=\"toc-item-num\">3.2&nbsp;&nbsp;</span>uninstall</a></span><ul class=\"toc-item\"><li><span><a href=\"#githubからinstallした場合のuninstall方法\" data-toc-modified-id=\"githubからinstallした場合のuninstall方法-3.2.1\"><span class=\"toc-item-num\">3.2.1&nbsp;&nbsp;</span>githubからinstallした場合のuninstall方法</a></span></li><li><span><a href=\"#gemからinstallした場合のuninstall方法\" data-toc-modified-id=\"gemからinstallした場合のuninstall方法-3.2.2\"><span class=\"toc-item-num\">3.2.2&nbsp;&nbsp;</span>gemからinstallした場合のuninstall方法</a></span></li></ul></li><li><span><a href=\"#動作環境\" data-toc-modified-id=\"動作環境-3.3\"><span class=\"toc-item-num\">3.3&nbsp;&nbsp;</span>動作環境</a></span><ul class=\"toc-item\"><li><span><a href=\"#error時の対処法\" data-toc-modified-id=\"error時の対処法-3.3.1\"><span class=\"toc-item-num\">3.3.1&nbsp;&nbsp;</span>error時の対処法</a></span></li></ul></li><li><span><a href=\"#初期設定\" data-toc-modified-id=\"初期設定-3.4\"><span class=\"toc-item-num\">3.4&nbsp;&nbsp;</span>初期設定</a></span></li><li><span><a href=\"#delete\" data-toc-modified-id=\"delete-3.5\"><span class=\"toc-item-num\">3.5&nbsp;&nbsp;</span>delete</a></span></li><li><span><a href=\"#random_h.rbとsequential_h.rb\" data-toc-modified-id=\"random_h.rbとsequential_h.rb-3.6\"><span class=\"toc-item-num\">3.6&nbsp;&nbsp;</span>random_h.rbとsequential_h.rb</a></span></li><li><span><a href=\"#random_checkの動作\" data-toc-modified-id=\"random_checkの動作-3.7\"><span class=\"toc-item-num\">3.7&nbsp;&nbsp;</span>random_checkの動作</a></span></li><li><span><a href=\"#sequential_checkの動作\" data-toc-modified-id=\"sequential_checkの動作-3.8\"><span class=\"toc-item-num\">3.8&nbsp;&nbsp;</span>sequential_checkの動作</a></span></li></ul></li><li><span><a href=\"#実装コードの解説\" data-toc-modified-id=\"実装コードの解説-4\"><span class=\"toc-item-num\">4&nbsp;&nbsp;</span>実装コードの解説</a></span><ul class=\"toc-item\"><li><span><a href=\"#起動時に毎回動作するプログラム\" data-toc-modified-id=\"起動時に毎回動作するプログラム-4.1\"><span class=\"toc-item-num\">4.1&nbsp;&nbsp;</span>起動時に毎回動作するプログラム</a></span><ul class=\"toc-item\"><li><span><a href=\"#プログラム内のインスタンス変数の概要\" data-toc-modified-id=\"プログラム内のインスタンス変数の概要-4.1.1\"><span class=\"toc-item-num\">4.1.1&nbsp;&nbsp;</span>プログラム内のインスタンス変数の概要</a></span></li><li><span><a href=\"#Fileの作成\" data-toc-modified-id=\"Fileの作成-4.1.2\"><span class=\"toc-item-num\">4.1.2&nbsp;&nbsp;</span>Fileの作成</a></span></li></ul></li><li><span><a href=\"#ファイル削除処理delete\" data-toc-modified-id=\"ファイル削除処理delete-4.2\"><span class=\"toc-item-num\">4.2&nbsp;&nbsp;</span>ファイル削除処理delete</a></span></li><li><span><a href=\"#random_check\" data-toc-modified-id=\"random_check-4.3\"><span class=\"toc-item-num\">4.3&nbsp;&nbsp;</span>random_check</a></span></li><li><span><a href=\"#sequential_check\" data-toc-modified-id=\"sequential_check-4.4\"><span class=\"toc-item-num\">4.4&nbsp;&nbsp;</span>sequential_check</a></span><ul class=\"toc-item\"><li><span><a href=\"#インスタンス定数に格納されたパス\" data-toc-modified-id=\"インスタンス定数に格納されたパス-4.4.1\"><span class=\"toc-item-num\">4.4.1&nbsp;&nbsp;</span>インスタンス定数に格納されたパス</a></span></li><li><span><a href=\"#動作部分\" data-toc-modified-id=\"動作部分-4.4.2\"><span class=\"toc-item-num\">4.4.2&nbsp;&nbsp;</span>動作部分</a></span></li></ul></li><li><span><a href=\"#新しいターミナルを開くopen_terminal\" data-toc-modified-id=\"新しいターミナルを開くopen_terminal-4.5\"><span class=\"toc-item-num\">4.5&nbsp;&nbsp;</span>新しいターミナルを開くopen_terminal</a></span></li></ul></li><li><span><a href=\"#他のソフトとの比較\" data-toc-modified-id=\"他のソフトとの比較-5\"><span class=\"toc-item-num\">5&nbsp;&nbsp;</span>他のソフトとの比較</a></span><ul class=\"toc-item\"><li><span><a href=\"#PTYPING\" data-toc-modified-id=\"PTYPING-5.1\"><span class=\"toc-item-num\">5.1&nbsp;&nbsp;</span>PTYPING</a></span></li><li><span><a href=\"#e-typing\" data-toc-modified-id=\"e-typing-5.2\"><span class=\"toc-item-num\">5.2&nbsp;&nbsp;</span>e-typing</a></span></li><li><span><a href=\"#寿司打\" data-toc-modified-id=\"寿司打-5.3\"><span class=\"toc-item-num\">5.3&nbsp;&nbsp;</span>寿司打</a></span></li><li><span><a href=\"#考察\" data-toc-modified-id=\"考察-5.4\"><span class=\"toc-item-num\">5.4&nbsp;&nbsp;</span>考察</a></span></li></ul></li><li><span><a href=\"#総括\" data-toc-modified-id=\"総括-6\"><span class=\"toc-item-num\">6&nbsp;&nbsp;</span>総括</a></span></li><li><span><a href=\"#謝辞\" data-toc-modified-id=\"謝辞-7\"><span class=\"toc-item-num\">7&nbsp;&nbsp;</span>謝辞</a></span></li><li><span><a href=\"#付録\" data-toc-modified-id=\"付録-8\"><span class=\"toc-item-num\">8&nbsp;&nbsp;</span>付録</a></span></li><li><span><a href=\"#参考文献\" data-toc-modified-id=\"参考文献-9\"><span class=\"toc-item-num\">9&nbsp;&nbsp;</span>参考文献</a></span></li></ul></div>"
   ]
  },
  {
   "cell_type": "markdown",
   "metadata": {},
   "source": [
    "# はじめに"
   ]
  },
  {
   "cell_type": "markdown",
   "metadata": {},
   "source": [
    "## 研究の目的"
   ]
  },
  {
   "cell_type": "markdown",
   "metadata": {
    "collapsed": true
   },
   "source": [
    "editor_learnerの開発の大きな目的はeditor(Emacs)操作，CUI操作(キーバインドなど)，Ruby言語の習熟とタイピング速度の向上である．editor上で動かすためファイルの開閉，保存，画面分割といった基本操作を習熟することができ，Ruby言語のプログラムを写経することでRuby言語の習熟へと繋げる．更にコードを打つことで正しい運指を身につけタイピング速度の向上も図っている．コードを打つ際にキーバインドを利用することでGUIではなくCUI操作にも適応していく．これら全てはプログラマにとって作業を効率化させるだけでなく，プログラマとしての質の向上につながる．"
   ]
  },
  {
   "cell_type": "markdown",
   "metadata": {},
   "source": [
    "## 研究の動機"
   ]
  },
  {
   "cell_type": "markdown",
   "metadata": {},
   "source": [
    "初めはタッチタイピングを習得した経験を活かして，西谷によって開発されたshunkuntype(ターミナル上で実行するタイピングソフト)の再開発をテーマにしていたが，これ以上タイピングに特化したソフトを開発しても同じようなものがWeb上に大量に転がっており，そのようなものをいくつも開発しても意味がないと考えた．そこで西谷研究室ではタイピング，Ruby言語，Emacsによるeditor操作，CUI操作の習熟が作業効率に非常に大きな影響を与えるので習熟を勧めている．そこで西谷研究室で使用されているeditorであるEmacs操作，Ruby言語の学習，タイピング速度，正確性の向上，CUI操作．これらの習熟を目的としたソフトを開発しようと考えた．"
   ]
  },
  {
   "cell_type": "markdown",
   "metadata": {
    "collapsed": true
   },
   "source": [
    "# 基本的事項"
   ]
  },
  {
   "cell_type": "markdown",
   "metadata": {},
   "source": [
    "## Emacs"
   ]
  },
  {
   "cell_type": "markdown",
   "metadata": {},
   "source": [
    "本研究において使用するeditorはEmacsである．ツールはプログラマ自身の手の延長である．これは他のどのようなソフトウェアツールよりもEditorに対して当てはまる．テキストはプログラミングにおける最も基本的な生素材なので，できる限り簡単に操作できる必要があります．\n",
    "    \n",
    "そこで西谷研究室で勧められているEmacsの機能については以下の通りである，\n",
    "\n",
    "1. 設定可能である．　フォント，色，ウィンドウサイズ，キーバインドを含めた全ての外見が好みに応じて設定できるようになっていること．通常の操作がキーストロークだけで行えると，手をキーボードから離す必要がなくなり，結果的にマウスやメニュー駆動型のコマンドよりも効率的に操作できるようになります\n",
    "1. 拡張性がある．　新しいプログラミング言語が出てきただけで，使い物にならなくなるようなエディタではなく，どんな新しい言語やテキスト形式が出てきたとしても，その言語の意味合いを「教え込む」ことが可能です\n",
    "1. プログラム可能であること．　込み入った複数の手順を実行できるよう，Editorはプログラム可能であることが必須である.\n",
    "\n",
    "これらの機能は本来エディタが持つべき基本的な機能である．これらに加えてEmacsは，\n",
    "\n",
    "1. 構文のハイライト　Rubyの構文にハイライトを入れたい場合はファイル名の後に.rbと入れることでRubyモードに切り替わり構文にハイライトを入れることが可能になる．\n",
    "1. 自動インデント．　テキストを編集する際，改行時に自動的にスペースやタブなどを入力しインデント調整を行ってくれる．\n",
    "\n",
    "などのプログラミング言語に特化した特徴を備えています．強力なeditorを習熟することは生産性を高めることに他ならない．カーソルの移動にしても，１回のキー入力で単語単位，行単位，ブロック単位，関数単位でカーソルを移動させることができれば，一文字ずつ，あるいは一行ずつ繰り返してキー入力を行う場合とは効率が大きく変わってきます．Emacsはこれらの全ての機能を孕んでいてeditorとして非常に優秀である．よって本研究はEmacsをベースとして研究を進める．"
   ]
  },
  {
   "cell_type": "markdown",
   "metadata": {},
   "source": [
    "## Ruby\n",
    "\n",
    "Rubyの基本的な説明は以下の通り，Rubyはまつもとゆきひろにより開発されたオブジェクト指向スクリプト言語であり，スクリプト言語が用いられてきた領域でのオブジェクト指向プログラミングを実現する言語である．\n",
    "\n",
    "本研究はRuby言語を使用しています．大きな理由としては\n",
    "\n",
    "* 構文の自由度が高く，記述量が少なくて済む．\n",
    "* 強力な標準ライブラリが備えられている．\n",
    "\n",
    "Rubyは変数の型付けがないため，記述量を少なく済ませることができ，\"gem\"という形式で公開されているライブラリが豊富かつ強力なので本研究はRuby言語を使用しました．"
   ]
  },
  {
   "cell_type": "markdown",
   "metadata": {},
   "source": [
    "## RubyGems\n",
    "\n",
    "Rubygemの基本的な説明は以下の通り，RubyGemsは，Ruby言語用のパッケージ管理システムであり，Rubyのプログラムと(\"gem\"と呼ばれる)ライブラリの配布用標準フォーマットを提供している．gemを容易に管理でき，gemを配布するサーバの機能も持つ．\n",
    "    \n",
    "本研究ではRubyGemsのgemを利用してファイル操作やパスの受け取りなどを行い，本研究で開発したソフトもgemに公開してある．"
   ]
  },
  {
   "cell_type": "markdown",
   "metadata": {},
   "source": [
    "## Keybind\n",
    "\n",
    "Keybindの基本的な説明は以下の通り，押下するキー(単独キーまたは複数キーの組み合わせ)と，実行される機能との対応関係のことである．また，キーを押下したときに実行させる機能を割り当てる行為のことである．\n",
    "\n",
    "以下controlを押しながらをc-と記述する．本研究におけるKeybindの習熟はCUI操作の習熟に酷似している．カーソル移動においてもGUIベースでマウスを使い行の先頭をクリックするより，CUIによりc-aを押すことで即座に行の先頭にカーソルを持っていくことができる．習熟するのであれば，どちらの方が早いかは一目瞭然である．本研究はKeybindの習熟によるCUI操作の適応で作業の効率化，高速化に重点を置いている．"
   ]
  },
  {
   "cell_type": "markdown",
   "metadata": {},
   "source": [
    "## CUI(Character User Interface)\n",
    "\n",
    "CUIは，キーボード等からの文字列を入力とし，文字列が表示されるウィンドウや古くはラインプリンタで印字される文字などを出力とする，ユーザインタフェースの様式で，GUI(Graphical User Interface)の対義語として使われる．\n",
    "    \n",
    "CUIとGUIにはそれぞれ大きな違いがある．GUIの利点は以下の通り，\n",
    "\n",
    "* 文字だけでなくアイコンなどの絵も表示できる．\n",
    "* 対象物が明確な点や，マウスで比較的簡単に操作できる．\n",
    "* 即座に操作結果が反映される．\n",
    "\n",
    "CUIの利点は以下の通り，\n",
    "\n",
    "* コマンドを憶えていれば複雑な処理が簡単に行える．\n",
    "* キーボードから手を離すことなく作業の高速化が行える．\n",
    "\n",
    "今回GUIではなくCUI操作の習熟を目的にした理由は，\n",
    "\n",
    "* コマンドを憶えることで作業効率が上がる．\n",
    "* editor操作の習熟も孕んでいるから．\n",
    "\n",
    "カーソル移動においてもGUIではなくCUI操作により，ワンコマンドで動かした方が効率的である．上記の理由から，GUIではなくCUI操作の習熟を目的としている．"
   ]
  },
  {
   "cell_type": "markdown",
   "metadata": {},
   "source": [
    "## 使用したgemファイル"
   ]
  },
  {
   "cell_type": "markdown",
   "metadata": {},
   "source": [
    "### diff-lcs"
   ]
  },
  {
   "cell_type": "markdown",
   "metadata": {},
   "source": [
    "diff-lcsは，二つのファイルの差分を求めて出力してくれる．テキストの差分を取得するメソッドは,Diff::LCS.sdiff と Diff::LCS.diff の２つがある.複数行の文字列を比較した場合の２つのメソッドの違いは以下のとおり.\n",
    "\n",
    "1. Diff::LCS.sdiff\n",
    "      1. 比較結果を１文字ずつ表示する\n",
    "\n",
    "1. Diff::LCS.diff\n",
    "      1. 比較した結果，違いがあった行について，違いがあった箇所のみ表示する．\n",
    "     \n",
    "今回使用したのは後者(Diff:LCS.diff)である．理由は間違った部分だけを表示した方が見やすいと考えたからである．"
   ]
  },
  {
   "cell_type": "markdown",
   "metadata": {},
   "source": [
    "### Thor"
   ]
  },
  {
   "cell_type": "markdown",
   "metadata": {},
   "source": [
    "Thorは，コマンドラインツールの作成を支援するライブラリです．gitやbundlerのようなサブコマンドツールを簡単に作成することができます．\n",
    "Thorの使用でサブコマンドを自然言語に近い形で覚えることができる．"
   ]
  },
  {
   "cell_type": "markdown",
   "metadata": {},
   "source": [
    "### Minitest"
   ]
  },
  {
   "cell_type": "markdown",
   "metadata": {},
   "source": [
    "Minitestはテストを自動化するためのテスト用のフレームワークである．Rubyにはいくつかのテスティングフレームワークがありますが，Minitestというフレームワークを利用した理由は以下の通りです．\n",
    "\n",
    "1. Rubyをインストールすると一緒にインストールされるため，特別なセットアップが不要．\n",
    "1. 学習コストが比較的低い．\n",
    "1. Railsのデフォルトのテスティングフレームワークなので，Railsを開発するときにも知識を活かしやすい．\n",
    "\n",
    "上記の理由から，sequential_checkではminitestを採用しております．"
   ]
  },
  {
   "cell_type": "markdown",
   "metadata": {},
   "source": [
    "### FileUtils"
   ]
  },
  {
   "cell_type": "markdown",
   "metadata": {},
   "source": [
    "再帰的な削除などの基本的なファイル操作を行うためのライブラリ"
   ]
  },
  {
   "cell_type": "markdown",
   "metadata": {},
   "source": [
    "### open3"
   ]
  },
  {
   "cell_type": "markdown",
   "metadata": {},
   "source": [
    "プログラムを実行し，そのプロセスの標準出力，標準入力，標準エラー出力にパイプをつなぐためのものである．"
   ]
  },
  {
   "cell_type": "markdown",
   "metadata": {},
   "source": [
    "### Bundler\n",
    "\n",
    "Bundlerはアプリケーション谷で依存するgemパッケージを管理するためのツールです．１つのシステム上で複数のアプリケーションを開発する場合や，デプロイ時にアプリケーションに紐付けてgemパッケージを管理したい場合に利用される．"
   ]
  },
  {
   "cell_type": "markdown",
   "metadata": {},
   "source": [
    "### Rubocop\n",
    "\n",
    "RubocopはRubyのソースコード解析ツールである．Rubyスタイルガイドや他のスタイルガイドに準拠しているかどうかを自動チェックしてくれるソフトウェアです．自分が打ち込んだ問題文となるソースコードのチェックに使用しました．"
   ]
  },
  {
   "cell_type": "markdown",
   "metadata": {},
   "source": [
    "# editor_learnerの概要"
   ]
  },
  {
   "cell_type": "markdown",
   "metadata": {},
   "source": [
    "## Installation\n",
    "\n",
    "### githubによるinstall\n",
    "githubによるインストール方法は以下の通りである．\n",
    "\n",
    "1. \"https://github.com/souki1103/editor_learner\" へアクセス\n",
    "1. Clone or downloadを押下，SSHのURLをコピー\n",
    "1. コマンドラインにてgit clone(コピーしたURL)を行う\n",
    "   \n",
    "上記の手順で開発したファイルがそのまま自分のディレクトリにインストールされる．\n",
    "\n",
    "### gemによるinstall\n",
    "gemによるインストール方法は以下の通りである．\n",
    "\n",
    "1. コマンドラインにてgem install editor_learnerと入力，実行\n",
    "1. ファイルがホームディレクトの.rbenv/versions/2.4.0/lib/ruby/gems/2.4.0/gemsにeditor_learnerが収納される\n",
    "\n",
    "これでeditor_learnerとコマンドラインで入力することで実行可能となる．"
   ]
  },
  {
   "cell_type": "markdown",
   "metadata": {},
   "source": [
    "## uninstall\n",
    "\n",
    "### githubからinstallした場合のuninstall方法\n",
    "\n",
    "gituhubからinstallした場合のuninstall方法は以下の通りである．\n",
    "\n",
    "1. ホームディレクトで\n",
    "      1. rm -rf editor_learnerを入力\n",
    "1. ホームディレクトリからeditor_learnerが削除されていることを確認する．\n",
    "\n",
    "以上がuninstall方法である．\n",
    "\n",
    "### gemからinstallした場合のuninstall方法\n",
    "\n",
    "gemからinstallした場合のuninstall方法は以下の通りである．\n",
    "\n",
    "1. ターミナル上のコマンドラインで\n",
    "      1. gem uninstall editor_learnerを入力\n",
    "1. ホームディレクトの.rbenv/versions/2.4.0/lib/ruby/gems/2.4.0/gemsにeditor_learnerが削除されていることを確認する．\n",
    "\n",
    "以上がuninstall方法である．"
   ]
  },
  {
   "cell_type": "markdown",
   "metadata": {},
   "source": [
    "## 動作環境"
   ]
  },
  {
   "cell_type": "markdown",
   "metadata": {},
   "source": [
    "Rubyのversionが2.4.0以上でなければ動かない．理由としては，gemに格納されているパスを正しいく受け渡しできないからである．2.4.0以下で動作させるためにはeditor_learnerの最新versionのみを入れることによって動作することが確認できている．\n",
    "\n",
    "### error時の対処法\n",
    "\n",
    "errorが出た場合は以下の方法を試してください\n",
    "\n",
    "1. rm -rf editor_learnerをコマンドラインで入力\n",
    "\n",
    "これによりファイル生成によるバグを解消できる．もう一つの方法は\n",
    "\n",
    "1. gem uninstall editor_learnerをコマンドラインで入力\n",
    "1. 全てのversionをuninstallする．\n",
    "1. 再度gem install editor_learnerで最新versionのみをinstallする．\n",
    "\n",
    "上記の手順によりRubyのversionによるバグが解消されることが確認できている．現在起こるであろうと予想されるバグの解消法は上記の2つである．Rubyのversionが2.4.0以上であればなんの不具合もなく動作することが確認できている．"
   ]
  },
  {
   "cell_type": "markdown",
   "metadata": {},
   "source": [
    "## 初期設定"
   ]
  },
  {
   "cell_type": "markdown",
   "metadata": {},
   "source": [
    "特別な初期設定はほとんどないが起動方法は以下の通りである，\n",
    "\n",
    "1. コマンドライン上にてeditor_learnerを入力する．\n",
    "    2. editor_learnerを起動することでホームディレクトリにeditor_learner/workshopと呼ばれるファイルが作成される．workshopは作業場という意味である．\n",
    "    2. workshopの中にquestion.rbとanswer.rb，random_h.rbとruby_1~ruby_6が作成され，ruby_1~ruby_6の中に1.rb~3.rbが作成されていることを確認する．\n",
    "    \n",
    "![File作られる画像．\\label{sample}](picture/mkdir.png)\n",
    "\n",
    "\n",
    "1. 起動すると以下のようなサブコマンドの書かれた画面が表示されることを確認する．\n",
    "```    \n",
    "Commands:\n",
    "    editor_lerner delete [number~number]\n",
    "    editor_learner help [COMMAND]\n",
    "    editor_learner random_check\n",
    "    editor_leraner sequential_check [lesson_number] [1~3numbers]\n",
    "```        \n",
    "1. editor_learnerの後にサブコマンドと必要に応じた引数を入力すると動作する．それぞれのサブコマンドの更に詳しい説明は以下の通りである．"
   ]
  },
  {
   "cell_type": "markdown",
   "metadata": {},
   "source": [
    "## delete"
   ]
  },
  {
   "cell_type": "markdown",
   "metadata": {},
   "source": [
    "editor_learnerを起動することで初期設定で述べたようにホームディレクトリにeditor_learner/workshopが作成される．deleteはworkshopに作成されたruby_1~ruby_6を削除するために作成されたものである．sequential_checkで１度プログラムを作成してしまうと再度実行するとIt have been finished!と表示されてしまうので，削除するコマンドを作成しました．コマンド例は以下の通りである．\n",
    "\n",
    "コマンド例\n",
    "\n",
    "1. editor_learner delete 1 3\n",
    "\n",
    "    \n",
    "上記のように入力することで１〜３までのファイルが削除される．サブコマンドの後の引数は２つの数字(char型)であり，削除するファイルの範囲を入力する．"
   ]
  },
  {
   "cell_type": "markdown",
   "metadata": {},
   "source": [
    "## random_h.rbとsequential_h.rb\n",
    "\n",
    "random_h.rbとsequential_h.rbが初期設定で作成され，editor_learnerを起動することで自動的に作成され，random_checkとsequential_checkを行う際に最初に開くファイルとなる．random_check用とsequential_check用に二つのファイルがある．random_check用のファイルは以下の通りである．\n",
    "\n",
    "random_h.rb\n",
    "\n",
    "![emacs の操作説明．\\label{random_h}](picture/random_h.png)\n",
    "\n",
    "上から順に説明すると，\n",
    "1. question.rbを開くためにc-x 2で画面を2分割にする．\n",
    "1. c-x c-fでquestion.rbを探して開く．\n",
    "1. 次にanswer.rbを開くために画面を3分割する\n",
    "1. 同様にc-x c-fでanswer.rbを探して開く．\n",
    "1. c-x oでanswer.rbを編集するためにポインタを移動させる．\n",
    "1. question.rbに書かれているコードをanswer.rbに写す．\n",
    "\n",
    "これらの手順がrandom_h.rbに記述されている．全ての手順を終えたターミナルの状態は以下の通り，\n",
    "\n",
    "![emacs の分割画面．\\label{split}](picture/split.png)\n",
    "\n",
    "上記の画像では，右上に問題であるquestion.rbが表示され，それを左上にあるanswer.rbに写す形となる．\n",
    "\n",
    "次にsequential_h.rb\n",
    "\n",
    "![シーケンシャル．\\label{sqquential}](picture/sequential_h.png)\n",
    "\n",
    "書かれている内容自体はrandom_h.rbとほとんど差異がないが，開くファイルの名前が違うため別のファイルとして作成された．この手順に沿って作業することになる．下に書かれているのは主要キーバインドであり，必要に応じて見て，使用する形となっている．上記の手順を行なったターミナル画面の状態はrandom_h.rbの最終形態を同じである．"
   ]
  },
  {
   "cell_type": "markdown",
   "metadata": {},
   "source": [
    "## random_checkの動作\n",
    "\n",
    "random_checkの動作開始から終了は以下の通りである．\n",
    "\n",
    "1. コマンドライン上にてeditor_learne random_checkを入力\n",
    "1. 新しいターミナル(ホームディレクトリ/editor_learner/workshopから始まる)が開かれる．\n",
    "1. random_h.rbを開いてrandom_h.rbに沿ってquestion.rbに書かれているコードをanswer.rbに写す．\n",
    "1. 前のターミナルに戻り，コマンドラインに\"check\"と入力することで正誤判定を行ってくれる．\n",
    "1. 間違っていればdiff-lcsにより間違った箇所が表示される．\n",
    "1. 正しければ新しいターミナルが開かれてから終了までの時間とIt have been finished!が表示され終了となる．\n",
    "\n",
    "更に次回random_check起動時には前に書いたコードがanswer.rbに格納されたままなので全て削除するのではなく，前のコードの必要な部分は残すことができる．\n",
    "\n",
    "random_checkの大きな目的はtyping速度，正確性の向上，editor操作やRuby言語の習熟に重点を置いている．いかに早く終わらせるかのポイントがtyping速度，正確性とeditor操作である．"
   ]
  },
  {
   "cell_type": "markdown",
   "metadata": {},
   "source": [
    "## sequential_checkの動作"
   ]
  },
  {
   "cell_type": "markdown",
   "metadata": {},
   "source": [
    "sequential_checkの動作開始から終了は以下の通りである．\n",
    "\n",
    "1. コマンドライン上でeditor_learner sequential_check(1~6の数字) (1~3の数字)を入力\n",
    "1. 新しいターミナル(ホームディレクトリ/editor_learner/workshop/ruby_(1~6の数字))が開かれる．\n",
    "1. sequential_h.rbを開いてsequential_h.rbに沿ってq.rbに書かれている内容を第２引数の数字.rbに写す．\n",
    "1. 前のターミナルに戻り，コマンドラインに\"check\"と入力することで正誤判定を行う．\n",
    "1. 間違っていれば間違った箇所が表示される．再度q.rbと第２引数の数字.rbを開いて間違った箇所を修正する．\n",
    "1. 正しければruby_1/1.rb is done!のように表示される．\n",
    "\n",
    "sequential_checkは1~3の順に1.rbがリファクタリングや追加され2.rbになり，完成形が3.rbになるといった形式である．連続的なプログラムの完成までを写経するのでsequential_checkと名付けられた．\n",
    "\n",
    "sequential_checkの大きな目的はリファクタリングによるRuby言語の学習とCUI操作によるキーバインドの習熟，タイピング速度，正確性の向上に重点を置いている．コードがリファクタリングされる様を写経することで自分自身でRubyのコードを書くときに他の人が見やすくなるようなコードが書けるようになる．"
   ]
  },
  {
   "cell_type": "markdown",
   "metadata": {},
   "source": [
    "# 実装コードの解説\n",
    "\n",
    "本章では，今回作成したプログラムをライブラリ化し継続的な発展が可能なようにそれぞれの処理の解説を記述する．"
   ]
  },
  {
   "cell_type": "markdown",
   "metadata": {},
   "source": [
    "## 起動時に毎回動作するプログラム\n",
    "\n",
    "editor_learnerを起動したときに自動に動く部分である．コードは以下の通りである．\n",
    "\n",
    "```\n",
    "def initialize(*args)\n",
    "      super\n",
    "      @prac_dir=\"#{ENV['HOME']}/editor_learner/workshop\"\n",
    "      @lib_location = Open3.capture3(\"gem environment gemdir\")\n",
    "      @versions = Open3.capture3(\"gem list editor_learner\")\n",
    "      p @latest_version = @versions[0].chomp.gsub(' (', '-').gsub(')','')\n",
    "      @inject = File.join(@lib_location[0].chomp, \"/gems/#{@latest_version}/lib\")\n",
    "      if File.exist?(@prac_dir) != true then\n",
    "        FileUtils.mkdir_p(@prac_dir)\n",
    "        FileUtils.touch(\"#{@prac_dir}/question.rb\")\n",
    "        FileUtils.touch(\"#{@prac_dir}/answer.rb\")\n",
    "        FileUtils.touch(\"#{@prac_dir}/random_h.rb\")\n",
    "        if File.exist?(\"#{@inject}/random_h.rb\") == true then\n",
    "          FileUtils.cp(\"#{@inject}/random_h.rb\", \"#{@prac_dir}/random_h.rb\")\n",
    "        elsif\n",
    "          FileUtils.cp(\"#{ENV['HOME']}/editor_learner/lib/random_h.rb\", \"#{@prac_dir}/random_h.rb\")\n",
    "        end\n",
    "      end\n",
    "      range = 1..6\n",
    "      range_ruby = 1..3\n",
    "      range.each do|num|\n",
    "        if File.exist?(\"#{@prac_dir}/ruby_#{num}\") != true then\n",
    "          FileUtils.mkdir(\"#{@prac_dir}/ruby_#{num}\")\n",
    "          FileUtils.touch(\"#{@prac_dir}/ruby_#{num}/q.rb\")\n",
    "          FileUtils.touch(\"#{@prac_dir}/ruby_#{num}/sequential_h.rb\")\n",
    "          if File.exist?(\"#{@inject}/sequential_h.rb\") == true then\n",
    "            FileUtils.cp(\"#{@inject}/sequential_h.rb\", \"#{@prac_dir}/ruby_#{num}/sequential_h.rb\")\n",
    "          else\n",
    "            FileUtils.cp(\"#{ENV['HOME']}/editor_learner/lib/sequential_h.rb\", \"#{@prac_dir}/ruby_#{num}/sequential_h.rb\")\n",
    "          end\n",
    "          range_ruby.each do|n|\n",
    "            FileUtils.touch(\"#{@prac_dir}/ruby_#{num}/#{n}.rb\")\n",
    "          end\n",
    "        end\n",
    "      end\n",
    "    end\n",
    "```\n",
    "\n",
    "この部分は基本的にディレクトリやファイルの作成が主である．上から順に説明すると，@prac_dirはホームディレクトリ/editor_learner/workshopを指しており，ファイルを作る際のパスとして作成されたインスタンス定数である．その後の3つのインスタンス定数(@lib_location,@versions,@latest_version)はgemでinstallされた場合ファイルの場所がホームディレクトリ/.rbenv/versions/2.4.0/lib/ruby/gems/2.4.0/gemsのeditor_learnerに格納されているためgemでinstallした人とgithubでinstallした人とではパスが変わってしまうためこれらの3つのインスタンス定数を用意した．実際の振る舞いとしては，File.existによりprac_dirがなければディレクトリを作成しさらにその中にquestion.rbとanswer.rbを作成する．gemにリリースしていることからgemでinstallした人とgithubでinstallした人のパスの違いをif文で条件分岐させている．これによりrandom_h.rbを正常にコピーすることができた．\n",
    "\n",
    "### プログラム内のインスタンス変数の概要\n",
    "\n",
    "インスタンス変数は，'@'で始まる変数はインスタンス変数であり，特定のオブジェクトに所属しています．インスタンス変数はそのクラスまたはサブクラスのメソッドから参照できます．初期化されない孫スタンス変数を参照した時の値はnillです．\n",
    "    \n",
    "このメソッドで使用されているインスタンス変数は5つである．prac_dirはホームディレクトリ/editor_learner/workshopを指しており，必要なファイルをここに作るのでパスとして受け渡すインスタンス変数となっている．その後の4つのインスタンス変数はgemからinstallした場合における，editor_learnerが格納されているパスを受け渡すためのインスタンス変数である．一つずつの説明は以下の通り，\n",
    "\n",
    "* lib_locationはターミナル上で\"gem environment gemdir\"を入力した場合に出力されるパスを格納している．(自分のターミナル場で実行すると/Users/souki/.rbenv/versions/2.4.0/lib/ruby/gems/2.4.0)\n",
    "* versionsはgemでinstallされたeditor_learnerのversionを受け取るためのパスを格納したインスタンス変数である．\n",
    "* latest_versionははversionsで受け取ったeditor_learnerのversionの最新部分のパスを格納したインスタンス変数である．\n",
    "* injectは実際にこれらのパスをつなぎ合わせてできるgemでinstallされたeditor_learnerが格納されているパスが格納されているインスタン変数である．(自分の場合は/Users/souki/.rbenv/versions/2.4.0/lib/ruby/gems/2.4.0/gems/editor_learner-1.1.2となる)\n",
    "\n",
    "### Fileの作成\n",
    "\n",
    "全てのパスの準備が整ったら実際に作業する場所に必要なファイル(question.rbやanswer.rb)などの作成が行われる．本研究のコードではeditor_learner/workshopがホームディレクトリになければ作成する．さらに，その中にrandom_checkに必要なファイル(question.rb,answer.rb,random_h.rb)が作成される．random_h.rbはgemでinstallした場合はeditor_learnerの格納されている部分からコピーを行なっている．\n",
    "次に，sequential_checkに必要なファイルを作成する．editor_learner/workshopにruby_1~ruby6がなければ作成し，その中に1.rb~3.rbとq.rb(問題をコピーするためのファイル)とsequential_h.rbが作成される．sequential_h.rbはrandom_h.rbと同じでgemからinstallした場合はeditor_learnerの格納されている部分からコピーを行なっている．このメソッドの大きな役割はファイル作成である．"
   ]
  },
  {
   "cell_type": "markdown",
   "metadata": {},
   "source": [
    "## ファイル削除処理delete\n",
    "\n",
    "sequential_checkで終了したchapterをもう一度したい場合に一度ファイルを削除しなければいけないので，deleteメソッドの大きな役割はsequential_checkで終了したファイルの削除である．\n",
    "\n",
    "```\n",
    "desc 'delete [number~number]', 'delete the ruby_file choose number to delet\\\n",
    "e file'\n",
    "\n",
    "def delete(n, m)\n",
    "  range = n..m\n",
    "  range.each{|num|\n",
    "  if File.exist?(\"#{@prac_dir}/ruby_#{num}\") == true then\n",
    "    system \"rm -rf #{@prac_dir}/ruby_#{num}\"\n",
    "  end\n",
    "  }\n",
    "end\n",
    "```\n",
    "\n",
    "コード自体はいたってシンプルで引数を2つ受け取ることでその間の範囲のFileを削除するようなコードとなっている．systemの\"rm -rf ファイル名\"がファイルを削除するコマンドなのでそこで受け取った引数の範囲でファイルの削除を行っている．"
   ]
  },
  {
   "cell_type": "markdown",
   "metadata": {},
   "source": [
    "## random_check\n",
    "\n",
    "random_checkのコードは以下の通り，\n",
    "\n",
    "```\n",
    "desc 'random_check', 'ramdom check your typing and edit skill.'\n",
    "    def random_check(*argv)\n",
    "      random = rand(1..15)\n",
    "      p random\n",
    "      s = \"#{random}.rb\"\n",
    "      puts \"check starting ...\"\n",
    "      puts \"type following commands on the terminal\"\n",
    "      puts \"> emacs question.rb answer.rb\"\n",
    "\n",
    "      src_dir = File.expand_path('../..', __FILE__) # \"Users/souki/editor_learner\"\n",
    "      if File.exist?(\"#{@inject}/random_check_question/#{s}\") == true then\n",
    "        FileUtils.cp(\"#{@inject}/random_check_question/#{s}\", \"#{@prac_dir}/question.rb\")\n",
    "      elsif\n",
    "        FileUtils.cp(File.join(src_dir, \"lib/random_check_question/#{s}\"),  \"#{@prac_dir}/question.rb\")\n",
    "      end\n",
    "      open_terminal\n",
    "      \n",
    "      start_time = Time.now\n",
    "      loop do\n",
    "        a = STDIN.gets.chomp\n",
    "        if a == \"check\" && FileUtils.compare_file(\"#{@prac_dir}/question.rb\", \"#{@prac_dir}/answer.rb\") == true then\n",
    "          puts \"It have been finished!\"\n",
    "          break\n",
    "        elsif FileUtils.compare_file(\"#{@prac_dir}/question.rb\", \"#{@prac_dir}/answer.rb\") != true then\n",
    "          @inputdata = File.open(\"#{@prac_dir}/answer.rb\").readlines\n",
    "          @checkdata = File.open(\"#{@prac_dir}/question.rb\").readlines\n",
    "          diffs = Diff::LCS.diff(\"#{@inputdata}\", \"#{@checkdata}\")\n",
    "          diffs.each do |diff|\n",
    "            p diff\n",
    "          end\n",
    "        end\n",
    "      end\n",
    "      end_time = Time.now\n",
    "      time = end_time - start_time - 1\n",
    "      \n",
    "      puts \"#{time} sec\"\n",
    "    end\n",
    "```\n",
    "\n",
    "random_checkの概要を簡単に説明すると15個あるRubyのコードから1~15の乱数を取得し，選ばれた数字のファイルが問題としてコピーされて，それをanswer.rbに入力することで正解していたら新しいターミナルが開かれてから終了までの時間を評価する仕組みとなっている．\n",
    "\n",
    "上から解説を行うと，1から15のrandomな乱数を取得，起動と同時にどのファイルがコピーされたか表示される．そして，src_dirでホームディレクトリ/editor_learnerのパスが代入される．そして，gemでinstallした人とgithubからcloneした場合によるファイルコピーのパスの違いをifで条件分岐．そして，1から15の乱数のファイルがquestion.rbにコピーされる．コピーされた後に新しいターミナルが開かれ，時間計測が開始される．そして，checkを前の画面に入力できるようにgetsを使った．初めにgetsだけを使用した時改行が入ってしまいうまく入力できなかった．しかし，chompを入れることで改行をなくすことに成功．しかし，argvとgetsを両方入れることが不可能なことが判明した．そこでgetsの前にSTDINを入れることでargvとの併用が可能なことがわかり，STDIN.gets.chompと入力することでキーボードからの入力を受け取ることができた．そして，checkが入力されてかつFileUtils.compareでファイルの比較で正しければ時間計測を終了し，表示する．間違っていた場合はインスタンス定数であるinputとoutputにquestion.rbとanswer.rbの中身が格納されてDiff::LCSのdiffによって間違っている箇所だけを表示する．一連のコード解説は以上である．"
   ]
  },
  {
   "cell_type": "markdown",
   "metadata": {},
   "source": [
    "## sequential_check\n",
    "\n",
    "sequential_checkの場合はリファクタリングにあたりたくさんのインスタンス定数を作った．コードは以下の通り，\n",
    "\n",
    "```\n",
    "desc 'sequential_check [lesson_number] [1~3number] ','sequential check your typing skill and edit skill choose number'\n",
    "    def sequential_check(*argv, n, m)\n",
    "      l = m.to_i - 1\n",
    "     \n",
    "      @seq_dir = \"lib/sequential_check_question\"\n",
    "      q_rb = \"ruby_#{n}/#{m}.rb\"\n",
    "      @seqnm_dir = File.join(@seq_dir,q_rb)\n",
    "      @pracnm_dir = \"#{ENV['HOME']}/editor_learner/workshop/ruby_#{n}/#{m}.rb\"\n",
    "      @seqnq_dir = \"lib/sequential_check_question/ruby_#{n}/q.rb\"\n",
    "      @pracnq_dir = \"#{ENV['HOME']}/editor_learner/workshop/ruby_#{n}/q.rb\"      \n",
    "      @seqnl_dir = \"lib/sequential_check_question/ruby_#{n}/#{l}.rb\"\n",
    "      @pracnl_dir = \"#{ENV['HOME']}/editor_learner/workshop/ruby_#{n}/#{l}.rb\"      \n",
    "      puts \"check starting ...\"\n",
    "      puts \"type following commands on the terminal\"\n",
    "      src_dir = File.expand_path('../..', __FILE__)\n",
    "      if File.exist?(\"#{@inject}/sequential_check_question/ruby_#{n}/#{m}.rb\") == true then\n",
    "        FileUtils.cp(\"#{@inject}/sequential_check_question/ruby_#{n}/#{m}.rb\", \"#{@pracnq_dir}\")\n",
    "      elsif\n",
    "        FileUtils.cp(File.join(src_dir, \"#{@seqnm_dir}\"),  \"#{@pracnq_dir}\")\n",
    "      end\n",
    "      if l != 0 && FileUtils.compare_file(\"#{@pracnm_dir}\", \"#{@pracnq_dir}\") != true\n",
    "        FileUtils.compare_file(\"#{@pracnl_dir}\", (File.join(src_dir, \"#{@seqnl_dir}\"))) == true\n",
    "        FileUtils.cp(\"#{@pracnl_dir}\", \"#{@pracnm_dir}\")\n",
    "      end\n",
    "      \n",
    "      if FileUtils.compare_file(@pracnm_dir, @pracnq_dir) != true then\n",
    "        system \"osascript -e 'tell application \\\"Terminal\\\" to do script \\\"cd #{@prac_dir}/ruby_#{n} \\\" '\"\n",
    "        loop do\n",
    "          a = STDIN.gets.chomp\n",
    "          if a == \"check\" && FileUtils.compare_file(\"#{@pracnm_dir}\", \"#{@pracnq_dir}\") == true then\n",
    "            puts \"ruby_#{n}/#{m}.rb is done!\"\n",
    "            break\n",
    "          elsif FileUtils.compare_file(\"#{@pracnm_dir}\", \"#{@pracnq_dir}\") != true then\n",
    "            @inputdata = File.open(\"#{@pracnm_dir}\").readlines\n",
    "            @checkdata = File.open(\"#{@pracnq_dir}\").readlines\n",
    "            diffs = Diff::LCS.diff(\"#{@inputdata}\", \"#{@checkdata}\")\n",
    "            diffs.each do |diff|\n",
    "              p diff\n",
    "            end\n",
    "          end\n",
    "        end\n",
    "       else\n",
    "        p \"ruby_#{n}/#{m}.rb is finished!\"\n",
    "      end\n",
    "    end\n",
    "```\n",
    "\n",
    "### インスタンス定数に格納されたパス\n",
    "\n",
    "インスタンス定数に格納されているパスについての説明は上から順に以下の通り，\n",
    "\n",
    "1. seq_dirはgithubでcloneした人が問題をコピーするときに使うパスである．\n",
    "1. seqnm_dirはその名の通りseq_dirに引数であるnとmを代入したパスである．例として引数に1と1が代入された時は以下の通り，\n",
    "       1. editor_learner/sequential_check_question/ruby_1/1.rbとなる．\n",
    "1. pracnm_dirはprac_dirに二つの引数nとmを代入したものである．実際に作業するところのパスとして使用する．例として引数として1と1が代入された時は以下の通り，\n",
    "       1. ホームディレクトリ/editor_learner/workshop/ruby_1/1.rbが格納される．\n",
    "1. 同様にseqとpracの後についている文字はその後のruby_(数字)/(数字).rbの数字に入る文字を後につけている．\n",
    "\n",
    "### 動作部分\n",
    "\n",
    "まずgemでinstallした場合とgithubでinstallした場合による違いを条件分岐によりパスを変えている．さらに1.rbが終了していた場合2.rbに1.rbをコピーした状態から始まるように処理が行われている．その後は\"check\"が入力された時かつFileUtils.compareで正解していれば終了．間違っていればDiff::LCSで間違っている箇所を表示．もう一度修正し，\"check\"を入力，正解していれば終了．以上が一連のコードの解説である．"
   ]
  },
  {
   "cell_type": "markdown",
   "metadata": {},
   "source": [
    "## 新しいターミナルを開くopen_terminal\n",
    "新しいターミナルを開くメソッドである．コードは以下の通りである．\n",
    "\n",
    "```\n",
    "def open_terminal\n",
    "        pwd = Dir.pwd\n",
    "        system \"osascript -e 'tell application \\\"Terminal\\\" to do script \\\"cd #{@prac_dir} \\\" '\"\n",
    "      end\n",
    "```\n",
    "\n",
    "新しく開かれたターミナルはprac_dir(editor_learner/workshop)のディレクトリからスタートするように設定されている．random_checkではeditor_learner/workshopでターミナルが開かれ，sequential_checkではeditor_learner/workshop/第１引数で入力されたファイルの場所が開かれるようになっている．"
   ]
  },
  {
   "cell_type": "markdown",
   "metadata": {},
   "source": [
    "# 他のソフトとの比較"
   ]
  },
  {
   "cell_type": "markdown",
   "metadata": {},
   "source": [
    "他のタイピングソフトとの比較を行った表が以下の通りである．\n",
    "\n",
    "![他のソフトとの比較．\\label{compare}](picture/compare.jpeg)\n",
    "\n",
    "上記のタイピングソフトは自分もよく使っていたタイピングソフトであり，評価も高いソフトである．それぞれの特徴は以下の通り，\n",
    "\n",
    "## PTYPING\n",
    "\n",
    "PTYPINGは豊富なプログラム言語が入力可能である．しかし，コードを打つのではなく，コードに使われるintなどよく使われる単語が60秒の間にどれだけ打てるかというソフトです．\n",
    "\n",
    "## e-typing\n",
    "e-typingはインターネットで無料提供されているソフトである．ローマ字入力を基本として，単語，短文，長文の3部構成となっておりタイピングの資格取得の練習もできる．\n",
    "\n",
    "## 寿司打\n",
    "\n",
    "自分が一番利用したサイト，GUIベースによりローマ字入力を基本とし，打てば打つほど秒数が伸びていきどれだけ入力できるかをランキング形式で表示される．\n",
    "\n",
    "## 考察\n",
    "\n",
    "これら全てのソフトを利用した結果，editor_learnerはローマ字入力ができない点では他のソフトに遅れをとるが，実際にプログラムを書くようになってからコードを写経することで{}や()などといったローマ字入力ではあまり入力しないような記号の入力が非常に早くなった．さらに，editor_learnerは現段階ではRubyの学習のみだが，引数を変えて元となるプログラムを作成することで全てのプログラム言語を学ぶことができる．さらに，実際にコードを入力することができるソフトはたくさんあるが，実行可能なものは少ない(Webで行うものが大半を占めているから．)実際に西谷研究室でeditor_learnerで学習を行っていない学生と行った自分のrandom_check平均秒数は前者は200秒程なのに対して，自分は60秒程である．これらの結果からeditor_learnerによる学習により，Ruby言語の学習にもなり，タイピング速度，正確性の向上，CUI操作の適応による差が出たと考えた．"
   ]
  },
  {
   "cell_type": "markdown",
   "metadata": {},
   "source": [
    "# 総括"
   ]
  },
  {
   "cell_type": "markdown",
   "metadata": {},
   "source": [
    "実際に今までたくさんのタイピングソフトやプログラムコードの打てるタイピングソフトを数多く利用してきたが，editor操作の習熟が可能なソフトは見たことも聞いたこともなかった．実際にタイピングだけが早い学生はたくさんいるがeditor操作やキーバインドも使いこなせる学生は少なかった．本研究で開発したeditor_learnerによりそれらの技術も上達し，作業効率などの向上が見込める結果となった．"
   ]
  },
  {
   "cell_type": "markdown",
   "metadata": {},
   "source": [
    "# 謝辞"
   ]
  },
  {
   "cell_type": "markdown",
   "metadata": {},
   "source": [
    "本研究を行うにあたり，終始多大なるご指導，御鞭撻をいただいた西谷滋人教授に対し，深く御礼申し上げます．また，本研究の進行に伴い，様々な助力，知識の供給をいただきました西谷研究室の同輩，先輩方に心から感謝の意を示します．本当にありがとうございました．"
   ]
  },
  {
   "cell_type": "markdown",
   "metadata": {},
   "source": [
    "# 付録"
   ]
  },
  {
   "cell_type": "markdown",
   "metadata": {},
   "source": [
    "```\n",
    "require 'fileutils'\n",
    "require 'colorize'\n",
    "require 'thor'\n",
    "require \"editor_learner/version\"\n",
    "require 'diff-lcs'\n",
    "require \"open3\"\n",
    "\n",
    "\n",
    "module EditorLearner\n",
    "class CLI < Thor\n",
    "\n",
    "    def initialize(*args)\n",
    "      super\n",
    "      @prac_dir=\"#{ENV['HOME']}/editor_learner/workshop\"\n",
    "      @lib_location = Open3.capture3(\"gem environment gemdir\")\n",
    "      @versions = Open3.capture3(\"gem list editor_learner\")\n",
    "      p @latest_version = @versions[0].chomp.gsub(' (', '-').gsub(')','')\n",
    "      @inject = File.join(@lib_location[0].chomp, \"/gems/#{@latest_version}/lib\")\n",
    "      if File.exist?(@prac_dir) != true then\n",
    "        FileUtils.mkdir_p(@prac_dir)\n",
    "        FileUtils.touch(\"#{@prac_dir}/question.rb\")\n",
    "        FileUtils.touch(\"#{@prac_dir}/answer.rb\")\n",
    "        FileUtils.touch(\"#{@prac_dir}/random_h.rb\")\n",
    "        if File.exist?(\"#{@inject}/random_h.rb\") == true then\n",
    "          FileUtils.cp(\"#{@inject}/random_h.rb\", \"#{@prac_dir}/random_h.rb\")\n",
    "        elsif  \n",
    "          FileUtils.cp(\"#{ENV['HOME']}/editor_learner/lib/random_h.rb\", \"#{@prac_dir}/random_h.rb\")\n",
    "        end\n",
    "      end\n",
    "      range = 1..6\n",
    "      range_ruby = 1..3\n",
    "      range.each do|num|\n",
    "        if File.exist?(\"#{@prac_dir}/ruby_#{num}\") != true then\n",
    "          FileUtils.mkdir(\"#{@prac_dir}/ruby_#{num}\")\n",
    "          FileUtils.touch(\"#{@prac_dir}/ruby_#{num}/q.rb\")\n",
    "          FileUtils.touch(\"#{@prac_dir}/ruby_#{num}/sequential_h.rb\")\n",
    "          if File.exist?(\"#{@inject}/sequential_h.rb\") == true then\n",
    "            FileUtils.cp(\"#{@inject}/sequential_h.rb\", \"#{@prac_dir}/ruby_#{num}/sequential_h.rb\")\n",
    "          else\n",
    "            FileUtils.cp(\"#{ENV['HOME']}/editor_learner/lib/sequential_h.rb\", \"#{@prac_dir}/ruby_#{num}/sequential_h.rb\")\n",
    "          end\n",
    "          range_ruby.each do|n|\n",
    "            FileUtils.touch(\"#{@prac_dir}/ruby_#{num}/#{n}.rb\")\n",
    "          end\n",
    "        end\n",
    "      end\n",
    "    end\n",
    "    \n",
    "    desc 'delete [number~number]', 'delete the ruby_file choose number to delete file'\n",
    "    \n",
    "    def delete(n, m)\n",
    "      range = n..m\n",
    "      range.each{|num|\n",
    "      if File.exist?(\"#{@prac_dir}/ruby_#{num}\") == true then\n",
    "        system \"rm -rf #{@prac_dir}/ruby_#{num}\"\n",
    "      end\n",
    "      }\n",
    "    end\n",
    "\n",
    "    desc 'sequential_check [lesson_number] [1~3number] ','sequential check your typing skill and edit skill choose number'\n",
    "    def sequential_check(*argv, n, m)\n",
    "      l = m.to_i - 1\n",
    "     \n",
    "      @seq_dir = \"lib/sequential_check_question\"\n",
    "      q_rb = \"ruby_#{n}/#{m}.rb\"\n",
    "      @seqnm_dir = File.join(@seq_dir,q_rb)\n",
    "      @pracnm_dir = \"#{ENV['HOME']}/editor_learner/workshop/ruby_#{n}/#{m}.rb\"\n",
    "      @seqnq_dir = \"lib/sequential_check_question/ruby_#{n}/q.rb\"\n",
    "      @pracnq_dir = \"#{ENV['HOME']}/editor_learner/workshop/ruby_#{n}/q.rb\"      \n",
    "      @seqnl_dir = \"lib/sequential_check_question/ruby_#{n}/#{l}.rb\"\n",
    "      @pracnl_dir = \"#{ENV['HOME']}/editor_learner/workshop/ruby_#{n}/#{l}.rb\"      \n",
    "      puts \"check starting ...\"\n",
    "      puts \"type following commands on the terminal\"\n",
    "      src_dir = File.expand_path('../..', __FILE__)\n",
    "      if File.exist?(\"#{@inject}/sequential_check_question/ruby_#{n}/#{m}.rb\") == true then\n",
    "        FileUtils.cp(\"#{@inject}/sequential_check_question/ruby_#{n}/#{m}.rb\", \"#{@pracnq_dir}\")\n",
    "      elsif\n",
    "        FileUtils.cp(File.join(src_dir, \"#{@seqnm_dir}\"),  \"#{@pracnq_dir}\")\n",
    "      end\n",
    "      if l != 0 && FileUtils.compare_file(\"#{@pracnm_dir}\", \"#{@pracnq_dir}\") != true\n",
    "        FileUtils.compare_file(\"#{@pracnl_dir}\", (File.join(src_dir, \"#{@seqnl_dir}\"))) == true\n",
    "        FileUtils.cp(\"#{@pracnl_dir}\", \"#{@pracnm_dir}\")\n",
    "      end\n",
    "      \n",
    "      if FileUtils.compare_file(@pracnm_dir, @pracnq_dir) != true then\n",
    "        system \"osascript -e 'tell application \\\"Terminal\\\" to do script \\\"cd #{@prac_dir}/ruby_#{n} \\\" '\"\n",
    "        loop do\n",
    "          a = STDIN.gets.chomp\n",
    "          if a == \"check\" && FileUtils.compare_file(\"#{@pracnm_dir}\", \"#{@pracnq_dir}\") == true then\n",
    "            puts \"ruby_#{n}/#{m}.rb is done!\"\n",
    "            break\n",
    "          elsif FileUtils.compare_file(\"#{@pracnm_dir}\", \"#{@pracnq_dir}\") != true then\n",
    "            @inputdata = File.open(\"#{@pracnm_dir}\").readlines\n",
    "            @checkdata = File.open(\"#{@pracnq_dir}\").readlines\n",
    "            diffs = Diff::LCS.diff(\"#{@inputdata}\", \"#{@checkdata}\")\n",
    "            diffs.each do |diff|\n",
    "              p diff\n",
    "            end\n",
    "          end\n",
    "        end\n",
    "       else\n",
    "        p \"ruby_#{n}/#{m}.rb is finished!\"\n",
    "      end\n",
    "    end\n",
    "\n",
    "    desc 'random_check', 'ramdom check your typing and edit skill.'\n",
    "    def random_check(*argv)\n",
    "      random = rand(1..15)\n",
    "      p random\n",
    "      s = \"#{random}.rb\"\n",
    "      puts \"check starting ...\"\n",
    "      puts \"type following commands on the terminal\"\n",
    "      puts \"> emacs question.rb answer.rb\"\n",
    "\n",
    "      src_dir = File.expand_path('../..', __FILE__) # \"Users/souki/editor_learner\"\n",
    "      if File.exist?(\"#{@inject}/random_check_question/#{s}\") == true then\n",
    "        FileUtils.cp(\"#{@inject}/random_check_question/#{s}\", \"#{@prac_dir}/question.rb\")\n",
    "      else\n",
    "        FileUtils.cp(File.join(src_dir, \"lib/random_check_question/#{s}\"),  \"#{@prac_dir}/question.rb\")\n",
    "      end\n",
    "      open_terminal\n",
    "      \n",
    "      start_time = Time.now\n",
    "      loop do\n",
    "        a = STDIN.gets.chomp\n",
    "        if a == \"check\" && FileUtils.compare_file(\"#{@prac_dir}/question.rb\", \"#{@prac_dir}/answer.rb\") == true then\n",
    "          puts \"It have been finished!\"\n",
    "          break\n",
    "        elsif FileUtils.compare_file(\"#{@prac_dir}/question.rb\", \"#{@prac_dir}/answer.rb\") != true then\n",
    "          @inputdata = File.open(\"#{@prac_dir}/answer.rb\").readlines\n",
    "          @checkdata = File.open(\"#{@prac_dir}/question.rb\").readlines\n",
    "          diffs = Diff::LCS.diff(\"#{@inputdata}\", \"#{@checkdata}\")\n",
    "          diffs.each do |diff|\n",
    "            p diff\n",
    "          end\n",
    "        end\n",
    "      end\n",
    "      end_time = Time.now\n",
    "      time = end_time - start_time - 1\n",
    "      \n",
    "      puts \"#{time} sec\"\n",
    "    end\n",
    "    \n",
    "    no_commands do\n",
    "      def open_terminal\n",
    "        pwd = Dir.pwd\n",
    "        system \"osascript -e 'tell application \\\"Terminal\\\" to do script \\\"cd #{@prac_dir} \\\" '\"\n",
    "      end\n",
    "    end\n",
    "  end\n",
    "end\n",
    "\n",
    "```"
   ]
  },
  {
   "cell_type": "markdown",
   "metadata": {},
   "source": [
    "# 参考文献"
   ]
  },
  {
   "cell_type": "markdown",
   "metadata": {},
   "source": [
    "Andrew Hunt著，「達人プログラマー」 (オーム社出版，2016)."
   ]
  },
  {
   "cell_type": "code",
   "execution_count": null,
   "metadata": {},
   "outputs": [],
   "source": []
  }
 ],
 "metadata": {
  "kernelspec": {
   "display_name": "Python 3",
   "language": "python",
   "name": "python3"
  },
  "language_info": {
   "codemirror_mode": {
    "name": "ipython",
    "version": 3
   },
   "file_extension": ".py",
   "mimetype": "text/x-python",
   "name": "python",
   "nbconvert_exporter": "python",
   "pygments_lexer": "ipython3",
   "version": "3.6.1"
  },
  "toc": {
   "nav_menu": {},
   "number_sections": true,
   "sideBar": true,
   "skip_h1_title": false,
   "title_cell": "Table of Contents",
   "title_sidebar": "Contents",
   "toc_cell": true,
   "toc_position": {
    "height": "calc(100% - 180px)",
    "left": "10px",
    "top": "150px",
    "width": "328px"
   },
   "toc_section_display": "block",
   "toc_window_display": true
  }
 },
 "nbformat": 4,
 "nbformat_minor": 2
}
